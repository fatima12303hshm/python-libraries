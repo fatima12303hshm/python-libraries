{
 "cells": [
  {
   "cell_type": "markdown",
   "metadata": {},
   "source": [
    "Reference for this  page: https://www.youtube.com/watch?v=aYmcRnmZVGQ&list=PL9n0l8rSshSnragNblKDBsT8Xu3otp3jA&pp=iAQB "
   ]
  },
  {
   "cell_type": "code",
   "execution_count": 1,
   "metadata": {},
   "outputs": [],
   "source": [
    "import numpy as np"
   ]
  },
  {
   "cell_type": "code",
   "execution_count": 2,
   "metadata": {},
   "outputs": [
    {
     "name": "stdout",
     "output_type": "stream",
     "text": [
      "[1, [1, 3, 5], 35, 'test', False, 0.4]\n"
     ]
    }
   ],
   "source": [
    "#Python List\n",
    "lst=[1,[1,3,5],35,'test', False, 0.4]\n",
    "print(lst)\n",
    "\n",
    "#Numpy Array\n",
    "array=np.array([1,3,4,5])\n",
    "\n",
    "#* The primitive types supported are tied closely to those in C language.\n",
    "#! Differences between list and ndarray: \n",
    "#? 1.Datatypes of elements in a list could be mixed, in an np.array should be homogenous\n",
    "#? 2.Once created the size of the  list can be changed, but the size of the np.array is fixed\n",
    "#? 3.Lists are dynamic, np.array are static\n",
    "#? 4.Lists are slower than np.array, np.array are faster than lists\n",
    "#? 5.Lists are more memory efficient than np.array, np.array are less memory efficient\n",
    "#? 6.Lists have limited dimensional  support, np.array have\tbuilt-in multidimensional support"
   ]
  },
  {
   "cell_type": "code",
   "execution_count": 3,
   "metadata": {},
   "outputs": [
    {
     "name": "stdout",
     "output_type": "stream",
     "text": [
      "1D array\n",
      "[1 3 5]\n",
      "2D array\n",
      "[[1 2 4 4]\n",
      " [3 4 6 7]\n",
      " [5 5 6 0]]\n"
     ]
    }
   ],
   "source": [
    "\n",
    "print('1D array')\n",
    "a=np.array([1,3,5])\n",
    "print(a)\n",
    "\n",
    "print('2D array')\n",
    "b=np.array([[1,2,4,4],[3,4,6,7],[5,5,6,0]])\n",
    "#!it must be a mxn matrix\n",
    "#b=np.array([[1,2],[3,6,7],[5,5,6,0]]) #!this is not a mxn matrix so its  not allowed\n",
    "print(b)\n"
   ]
  },
  {
   "cell_type": "markdown",
   "metadata": {},
   "source": [
    "shape returns a tuple of  two values: the first stands for the rows in an array, and the second for the number of column\n",
    "(rows, cols)"
   ]
  },
  {
   "cell_type": "code",
   "execution_count": 4,
   "metadata": {},
   "outputs": [
    {
     "name": "stdout",
     "output_type": "stream",
     "text": [
      "(3,)\n",
      "(3, 4)\n"
     ]
    }
   ],
   "source": [
    "print(a.shape)\n",
    "print(b.shape)"
   ]
  },
  {
   "cell_type": "markdown",
   "metadata": {},
   "source": [
    "size returns the total number of elements in an array"
   ]
  },
  {
   "cell_type": "code",
   "execution_count": 5,
   "metadata": {},
   "outputs": [
    {
     "name": "stdout",
     "output_type": "stream",
     "text": [
      "3\n",
      "12\n"
     ]
    }
   ],
   "source": [
    "print(a.size)\n",
    "print(b.size)"
   ]
  },
  {
   "cell_type": "markdown",
   "metadata": {},
   "source": [
    "dtype: datatype of elements in the  array for the all types check the documentation"
   ]
  },
  {
   "cell_type": "code",
   "execution_count": 6,
   "metadata": {},
   "outputs": [
    {
     "name": "stdout",
     "output_type": "stream",
     "text": [
      "int64\n",
      "int64\n"
     ]
    }
   ],
   "source": [
    "print(a.dtype)\n",
    "print(b.dtype)"
   ]
  },
  {
   "cell_type": "markdown",
   "metadata": {},
   "source": [
    "transpose(): replace columns with rows and rows  with columns"
   ]
  },
  {
   "cell_type": "code",
   "execution_count": 7,
   "metadata": {},
   "outputs": [
    {
     "name": "stdout",
     "output_type": "stream",
     "text": [
      "Before Transpose:\n",
      "a=  [1 3 5]\n",
      "Validation shape before transpose:  (3,)\n",
      "After Transpose:\n",
      "a= [1 3 5]\n",
      "Validation shape after transpose:  (3,)\n",
      "Before Transpose:\n",
      "b= [[1 2 4 4]\n",
      " [3 4 6 7]\n",
      " [5 5 6 0]]\n",
      "Validation shape before transpose:  (3, 4)\n",
      "After Transpose:\n",
      " b= [[1 3 5]\n",
      " [2 4 5]\n",
      " [4 6 6]\n",
      " [4 7 0]]\n",
      "Validation shape after transpose:  (4, 3)\n"
     ]
    }
   ],
   "source": [
    "print('Before Transpose:\\na= ', a)\n",
    "\n",
    "print('Validation shape before transpose: ', a.shape)\n",
    "\n",
    "print('After Transpose:\\na=', a.transpose())\n",
    "\n",
    "print('Validation shape after transpose: ', a.transpose().shape)\n",
    "\n",
    "print('Before Transpose:\\nb=', b)\n",
    "\n",
    "print('Validation shape before transpose: ', b.shape)\n",
    "\n",
    "print('After Transpose:\\n b=', b.transpose())\n",
    "\n",
    "print('Validation shape after transpose: ', b.transpose().shape)\n",
    "\n",
    "\n",
    "#!b.transpose() doesnt change b as its value, to change the value of b, you must use  b=b.transpose()\n",
    "#!a is a 1D array no difference between a and a.transpose()\n"
   ]
  },
  {
   "cell_type": "markdown",
   "metadata": {},
   "source": [
    "np.empty((rows, cols), dtype=datatype): create rowsxcols array with random values in each position, based on the datatype passed"
   ]
  },
  {
   "cell_type": "code",
   "execution_count": 8,
   "metadata": {},
   "outputs": [
    {
     "name": "stdout",
     "output_type": "stream",
     "text": [
      "Random 3x3 array of integers\n",
      " [[0 0 0]\n",
      " [0 0 0]\n",
      " [0 0 0]]\n",
      "Random 6x3 array of boolean\n",
      " [[ True  True  True]\n",
      " [ True  True  True]\n",
      " [False False False]\n",
      " [False False False]\n",
      " [False False False]\n",
      " [False  True False]]\n",
      "Random 2x2 array of float\n",
      " [[9.79830996e+252 4.61964766e+281]\n",
      " [3.17095857e+180 2.59345444e+161]]\n"
     ]
    }
   ],
   "source": [
    "c=np.empty((3,3),  dtype=int)\n",
    "print('Random 3x3 array of integers\\n',c)\n",
    "\n",
    "d=np.empty((6,3),  dtype=bool)\n",
    "print('Random 6x3 array of boolean\\n',d)\n",
    "\n",
    "e=np.empty((2,2),  dtype=float)\n",
    "print('Random 2x2 array of float\\n',e)\n"
   ]
  },
  {
   "cell_type": "markdown",
   "metadata": {},
   "source": [
    "np.ones((rows, cols), dtype=datatype) : Initialize a rowsxcols array with ones the dtype is not required it just specifies what type is needed (by default is float)"
   ]
  },
  {
   "cell_type": "code",
   "execution_count": 9,
   "metadata": {},
   "outputs": [
    {
     "name": "stdout",
     "output_type": "stream",
     "text": [
      "array of ones\n",
      " [1. 1. 1.]\n",
      "3x6 array of ones\n",
      " [[1. 1. 1. 1. 1. 1.]\n",
      " [1. 1. 1. 1. 1. 1.]\n",
      " [1. 1. 1. 1. 1. 1.]]\n",
      "3x4 array of int ones\n",
      " [[1 1 1 1]\n",
      " [1 1 1 1]\n",
      " [1 1 1 1]]\n",
      "3x4 array of String ones\n",
      " [['1' '1' '1' '1']\n",
      " ['1' '1' '1' '1']\n",
      " ['1' '1' '1' '1']]\n"
     ]
    }
   ],
   "source": [
    "f=np.ones((3))\n",
    "print('array of ones\\n',f)\n",
    "\n",
    "g=np.ones((3,6))\n",
    "print('3x6 array of ones\\n',g)\n",
    "\n",
    "h=np.ones((3,4), dtype=int)\n",
    "print('3x4 array of int ones\\n',h)\n",
    "\n",
    "i=np.ones((3,4), dtype=str)\n",
    "print('3x4 array of String ones\\n',i)"
   ]
  },
  {
   "cell_type": "markdown",
   "metadata": {},
   "source": [
    "np.zeros((rows, cols), dtype=datatype) : Initialize a rowsxcols array with zeros the dtype is not required it just specifies what type is needed (by default is float), if string it take it as an empty string"
   ]
  },
  {
   "cell_type": "code",
   "execution_count": 10,
   "metadata": {},
   "outputs": [
    {
     "name": "stdout",
     "output_type": "stream",
     "text": [
      "array of zeros\n",
      " [0. 0. 0.]\n",
      "3x6 array of zeros\n",
      " [[0. 0. 0. 0. 0. 0.]\n",
      " [0. 0. 0. 0. 0. 0.]\n",
      " [0. 0. 0. 0. 0. 0.]]\n",
      "3x4 array of float zeros\n",
      " [[0 0 0 0]\n",
      " [0 0 0 0]\n",
      " [0 0 0 0]]\n",
      "3x4 array of string zeros\n",
      " [['' '' '' '']\n",
      " ['' '' '' '']\n",
      " ['' '' '' '']]\n"
     ]
    }
   ],
   "source": [
    "j=np.zeros((3))\n",
    "print('array of zeros\\n',j)\n",
    "\n",
    "k=np.zeros((3,6))\n",
    "print('3x6 array of zeros\\n',k)\n",
    "\n",
    "l=np.zeros((3,4), dtype=int)\n",
    "print('3x4 array of float zeros\\n',l)\n",
    "\n",
    "m=np.zeros((3,4), dtype=str)\n",
    "print('3x4 array of string zeros\\n',m)"
   ]
  },
  {
   "cell_type": "markdown",
   "metadata": {},
   "source": [
    "np.arange(start, end, step):  similar to range(start, stop, step) for lists, it creates an array starting from start,  stopping at end, and stepping by step.\n",
    "\n",
    "default value of start is 0\n",
    "\n",
    "default value of step is 1"
   ]
  },
  {
   "cell_type": "code",
   "execution_count": 11,
   "metadata": {},
   "outputs": [
    {
     "name": "stdout",
     "output_type": "stream",
     "text": [
      "np.arange(1,20, 2):  [ 1  3  5  7  9 11 13 15 17 19]\n",
      "np.arange(10):  [0 1 2 3 4 5 6 7 8 9]\n",
      "np.arange(1, 10):  [1 2 3 4 5 6 7 8 9]\n"
     ]
    }
   ],
   "source": [
    "arange=np.arange(1,20, 2) \n",
    "print('np.arange(1,20, 2): ',arange)\n",
    "\n",
    "arange1=np.arange(10)\n",
    "print('np.arange(10): ', arange1)\n",
    "\n",
    "arange3=np.arange(1, 10)\n",
    "print('np.arange(1, 10): ',arange3)"
   ]
  },
  {
   "cell_type": "markdown",
   "metadata": {},
   "source": [
    "reshape((rows, cols)):   # Reshape the array to a rowsxcols array if possible \n",
    "\n",
    "size=rows x cols "
   ]
  },
  {
   "cell_type": "code",
   "execution_count": 12,
   "metadata": {},
   "outputs": [
    {
     "name": "stdout",
     "output_type": "stream",
     "text": [
      "From [0 1 2 3 4 5 6 7 8 9]\n",
      "Into\n",
      " [[0 1]\n",
      " [2 3]\n",
      " [4 5]\n",
      " [6 7]\n",
      " [8 9]]\n",
      "From [1 2 3 4 5 6 7 8 9]\n",
      "Into\n",
      " [[1 2 3]\n",
      " [4 5 6]\n",
      " [7 8 9]]\n"
     ]
    }
   ],
   "source": [
    "print('From', arange1)\n",
    "reshape1=arange1.reshape((5,2))\n",
    "print('Into\\n',reshape1)\n",
    "\n",
    "print('From', arange3)\n",
    "reshape=arange3.reshape((3,3))\n",
    "print('Into\\n',reshape)"
   ]
  },
  {
   "cell_type": "markdown",
   "metadata": {},
   "source": [
    "arr[n]: return the nth row of arr\n",
    "\n",
    "arr[n,m]: return the element at mth and nth position"
   ]
  },
  {
   "cell_type": "code",
   "execution_count": 13,
   "metadata": {},
   "outputs": [
    {
     "name": "stdout",
     "output_type": "stream",
     "text": [
      "[4 5]\n",
      "9\n"
     ]
    }
   ],
   "source": [
    "secondRow=reshape1[2]\n",
    "print(secondRow)\n",
    "\n",
    "nthElement=reshape[2,2]\n",
    "print(nthElement)"
   ]
  },
  {
   "cell_type": "markdown",
   "metadata": {},
   "source": [
    "Slicing Rows:\n",
    "\n",
    "arr[n:m]: slice the array, it returns a new array starting from the nth row, reaching the m-1 row\n",
    "\n",
    "default value of n: 0\n",
    "\n",
    "default value of m: size of list"
   ]
  },
  {
   "cell_type": "code",
   "execution_count": 14,
   "metadata": {},
   "outputs": [
    {
     "name": "stdout",
     "output_type": "stream",
     "text": [
      "slice from row at index 1 till row at index 3\n",
      "[[2 3]\n",
      " [4 5]\n",
      " [6 7]]\n",
      "slice from row at index 0 till row at index 1\n",
      "[[1 2 3]\n",
      " [4 5 6]]\n",
      "slice from row at index 1 till the last row\n",
      "[[4 5 6]\n",
      " [7 8 9]]\n",
      "same as without slicing, returns the whole array\n",
      "[[1 2 3]\n",
      " [4 5 6]\n",
      " [7 8 9]]\n"
     ]
    }
   ],
   "source": [
    "print('slice from row at index 1 till row at index 3')\n",
    "print(reshape1[1:4])\n",
    "\n",
    "print('slice from row at index 0 till row at index 1')\n",
    "print(reshape[:2])\n",
    "\n",
    "\n",
    "print('slice from row at index 1 till the last row')\n",
    "print(reshape[1:])\n",
    "\n",
    "print('same as without slicing, returns the whole array')\n",
    "print(reshape[:])"
   ]
  },
  {
   "cell_type": "markdown",
   "metadata": {},
   "source": [
    "Accessing Columns\n",
    "\n",
    "arr[n:m, k]: returns the sliced rows  from n to m positined at the kth column.\n"
   ]
  },
  {
   "cell_type": "code",
   "execution_count": 15,
   "metadata": {},
   "outputs": [
    {
     "name": "stdout",
     "output_type": "stream",
     "text": [
      "[[0 1]\n",
      " [2 3]\n",
      " [4 5]\n",
      " [6 7]\n",
      " [8 9]]\n",
      "access elements from row at index 1 till row at index 3 of column at index 1\n",
      "[3 5 7]\n",
      "__________________________________________________________________\n",
      "[[1 2 3]\n",
      " [4 5 6]\n",
      " [7 8 9]]\n",
      "access elements from row at index 0 till row at index 1  of column at index 2\n",
      "[3 6]\n",
      "__________________________________________________________________\n",
      "[[1 2 3]\n",
      " [4 5 6]\n",
      " [7 8 9]]\n",
      "access elements at rows of index 1 till the last row at column 0\n",
      "[4 7]\n",
      "__________________________________________________________________\n",
      "[[1 2 3]\n",
      " [4 5 6]\n",
      " [7 8 9]]\n",
      " returns all elements of the rows at column 1 \n",
      "[2 5 8]\n"
     ]
    }
   ],
   "source": [
    "print(reshape1)\n",
    "print('access elements from row at index 1 till row at index 3 of column at index 1')\n",
    "print(reshape1[1:4, 1])\n",
    "\n",
    "print('__________________________________________________________________')\n",
    "\n",
    "print(reshape)\n",
    "print('access elements from row at index 0 till row at index 1  of column at index 2')\n",
    "print(reshape[:2, 2])\n",
    "\n",
    "print('__________________________________________________________________')\n",
    "\n",
    "print(reshape)\n",
    "print('access elements at rows of index 1 till the last row at column 0')\n",
    "print(reshape[1:, 0])\n",
    "\n",
    "print('__________________________________________________________________')\n",
    "\n",
    "print(reshape)\n",
    "print(' returns all elements of the rows at column 1 ')\n",
    "print(reshape[:, 1])"
   ]
  },
  {
   "cell_type": "markdown",
   "metadata": {},
   "source": [
    "Accessing All Rows/Columns:\n",
    "\n",
    "arr[n:m, y:z]:  Returns a sub-array of arr of elements positioned from row n to m and column y to z.\n"
   ]
  },
  {
   "cell_type": "code",
   "execution_count": 16,
   "metadata": {},
   "outputs": [
    {
     "name": "stdout",
     "output_type": "stream",
     "text": [
      "[[1 2 3]\n",
      " [4 5 6]\n",
      " [7 8 9]]\n",
      "Access elements from all rows in columns at index 1 to index 2\n",
      "[[2 3]\n",
      " [5 6]\n",
      " [8 9]]\n",
      "__________________________________________________________________\n",
      "[[1 2 3]\n",
      " [4 5 6]\n",
      " [7 8 9]]\n",
      "Access elements from all rows in columns at index 0 and 2\n",
      "[[1 3]\n",
      " [4 6]\n",
      " [7 9]]\n",
      "__________________________________________________________________\n",
      "[[1 2 3]\n",
      " [4 5 6]\n",
      " [7 8 9]]\n",
      "Access the first three rows from all columns\n",
      "[[1 2 3]\n",
      " [4 5 6]\n",
      " [7 8 9]]\n"
     ]
    }
   ],
   "source": [
    "\n",
    "print(reshape)\n",
    "print('Access elements from all rows in columns at index 1 to index 2')\n",
    "print(reshape[:, 1:3]) \n",
    "\n",
    "print('__________________________________________________________________')\n",
    "\n",
    "print(reshape)\n",
    "print('Access elements from all rows in columns at index 0 and 2')\n",
    "print(reshape[:, [0, 2]])  \n",
    "\n",
    "print('__________________________________________________________________')\n",
    "\n",
    "print(reshape)\n",
    "print('Access the first three rows from all columns')\n",
    "print(reshape[:3, :])  \n"
   ]
  },
  {
   "cell_type": "code",
   "execution_count": 17,
   "metadata": {},
   "outputs": [
    {
     "name": "stdout",
     "output_type": "stream",
     "text": [
      "Array A:\n",
      " [[ 0  1  2]\n",
      " [ 3  4  5]\n",
      " [ 6  7  8]\n",
      " [ 9 10 11]\n",
      " [12 13 14]\n",
      " [15 16 17]]\n",
      "Array B:\n",
      " [[20 21 22]\n",
      " [23 24 25]\n",
      " [26 27 28]\n",
      " [29 30 31]\n",
      " [32 33 34]\n",
      " [35 36 37]]\n"
     ]
    }
   ],
   "source": [
    "a = np.arange(0, 18).reshape(6, 3)\n",
    "b = np.arange(20, 38).reshape(6, 3)\n",
    "print(\"Array A:\\n\", a)\n",
    "print(\"Array B:\\n\", b)"
   ]
  },
  {
   "cell_type": "markdown",
   "metadata": {},
   "source": [
    "Basic Arithmetic Operations: \n",
    "\n",
    "Element-wise operations: +, -, *, /\n",
    "\n",
    "np.add(a, b), np.subtract(a, b), np.multiply(a, b), np.divide(a, b)"
   ]
  },
  {
   "cell_type": "code",
   "execution_count": 18,
   "metadata": {},
   "outputs": [
    {
     "name": "stdout",
     "output_type": "stream",
     "text": [
      "A + B:\n",
      " [[20 22 24]\n",
      " [26 28 30]\n",
      " [32 34 36]\n",
      " [38 40 42]\n",
      " [44 46 48]\n",
      " [50 52 54]]\n",
      "np.add(A, B):\n",
      " [[20 22 24]\n",
      " [26 28 30]\n",
      " [32 34 36]\n",
      " [38 40 42]\n",
      " [44 46 48]\n",
      " [50 52 54]]\n",
      "__________________________________________________________________\n",
      "A - B:\n",
      " [[-20 -20 -20]\n",
      " [-20 -20 -20]\n",
      " [-20 -20 -20]\n",
      " [-20 -20 -20]\n",
      " [-20 -20 -20]\n",
      " [-20 -20 -20]]\n",
      "np.subtract(A, B):\n",
      " [[-20 -20 -20]\n",
      " [-20 -20 -20]\n",
      " [-20 -20 -20]\n",
      " [-20 -20 -20]\n",
      " [-20 -20 -20]\n",
      " [-20 -20 -20]]\n",
      "__________________________________________________________________\n",
      "A * B:\n",
      " [[  0  21  44]\n",
      " [ 69  96 125]\n",
      " [156 189 224]\n",
      " [261 300 341]\n",
      " [384 429 476]\n",
      " [525 576 629]]\n",
      "np.multiply(A, B):\n",
      " [[  0  21  44]\n",
      " [ 69  96 125]\n",
      " [156 189 224]\n",
      " [261 300 341]\n",
      " [384 429 476]\n",
      " [525 576 629]]\n",
      "__________________________________________________________________\n",
      "A / B:\n",
      " [[0.         0.04761905 0.09090909]\n",
      " [0.13043478 0.16666667 0.2       ]\n",
      " [0.23076923 0.25925926 0.28571429]\n",
      " [0.31034483 0.33333333 0.35483871]\n",
      " [0.375      0.39393939 0.41176471]\n",
      " [0.42857143 0.44444444 0.45945946]]\n",
      "np.divide(A, B):\n",
      " [[0.         0.04761905 0.09090909]\n",
      " [0.13043478 0.16666667 0.2       ]\n",
      " [0.23076923 0.25925926 0.28571429]\n",
      " [0.31034483 0.33333333 0.35483871]\n",
      " [0.375      0.39393939 0.41176471]\n",
      " [0.42857143 0.44444444 0.45945946]]\n"
     ]
    }
   ],
   "source": [
    "print(\"A + B:\\n\", a + b)\n",
    "print(\"np.add(A, B):\\n\", np.add(a, b))\n",
    "\n",
    "print('__________________________________________________________________')\n",
    "\n",
    "print(\"A - B:\\n\", a - b)\n",
    "print(\"np.subtract(A, B):\\n\", np.subtract(a, b))\n",
    "\n",
    "print('__________________________________________________________________')\n",
    "\n",
    "print(\"A * B:\\n\", a * b)\n",
    "print(\"np.multiply(A, B):\\n\", np.multiply(a, b))\n",
    "\n",
    "print('__________________________________________________________________')\n",
    "\n",
    "print(\"A / B:\\n\", a / b)\n",
    "print(\"np.divide(A, B):\\n\",np.divide(a, b))\n"
   ]
  },
  {
   "cell_type": "markdown",
   "metadata": {},
   "source": [
    "Matrix Multiplication (Dot Product)\n",
    "\n",
    "np.dot(a, b.T) or a.dot(b.T) (when compatible shapes)"
   ]
  },
  {
   "cell_type": "code",
   "execution_count": 19,
   "metadata": {},
   "outputs": [
    {
     "name": "stdout",
     "output_type": "stream",
     "text": [
      "Dot product of A and reshaped B:\n",
      " [[  90   93   96   99  102  105]\n",
      " [ 324  336  348  360  372  384]\n",
      " [ 558  579  600  621  642  663]\n",
      " [ 792  822  852  882  912  942]\n",
      " [1026 1065 1104 1143 1182 1221]\n",
      " [1260 1308 1356 1404 1452 1500]]\n"
     ]
    }
   ],
   "source": [
    "\n",
    "b = b.reshape(3, 6)\n",
    "print(\"Dot product of A and reshaped B:\\n\", np.dot(a, b))\n"
   ]
  },
  {
   "cell_type": "markdown",
   "metadata": {},
   "source": [
    "Statistical Operations\n",
    "\n",
    ".max(), .min(), .argmax(), .argmin(), .sum(), .mean(), .std()"
   ]
  },
  {
   "cell_type": "code",
   "execution_count": 20,
   "metadata": {},
   "outputs": [
    {
     "name": "stdout",
     "output_type": "stream",
     "text": [
      "Max of B: 37\n",
      "Min of B: 20\n",
      "Index of Max of B: 17\n",
      "Sum of elements in B: 513\n",
      "Mean of elements in B: 28.5\n",
      "Standard deviation of B: 5.188127472091127\n"
     ]
    }
   ],
   "source": [
    "print(\"Max of B:\", b.max())\n",
    "print(\"Min of B:\", b.min())\n",
    "print(\"Index of Max of B:\", b.argmax())\n",
    "print(\"Sum of elements in B:\", b.sum())\n",
    "print(\"Mean of elements in B:\", b.mean())\n",
    "print(\"Standard deviation of B:\", b.std())\n"
   ]
  },
  {
   "cell_type": "markdown",
   "metadata": {},
   "source": [
    "Axis-Specific Summations\n",
    "\n",
    "np.sum(b, axis=1): Sum along rows.\n",
    "\n",
    "np.sum(b, axis=0): Sum along columns."
   ]
  },
  {
   "cell_type": "code",
   "execution_count": 21,
   "metadata": {},
   "outputs": [
    {
     "name": "stdout",
     "output_type": "stream",
     "text": [
      "Sum along rows of B:\n",
      " [135 171 207]\n",
      "Sum along columns of B:\n",
      " [78 81 84 87 90 93]\n"
     ]
    }
   ],
   "source": [
    "print(\"Sum along rows of B:\\n\", np.sum(b, axis=1))\n",
    "print(\"Sum along columns of B:\\n\", np.sum(b, axis=0))"
   ]
  },
  {
   "cell_type": "markdown",
   "metadata": {},
   "source": [
    "Element-wise Mathematical Functions\n",
    "\n",
    "np.sqrt(b): Square root.\n",
    "\n",
    "np.log(b): Logarithm."
   ]
  },
  {
   "cell_type": "code",
   "execution_count": 22,
   "metadata": {},
   "outputs": [
    {
     "name": "stdout",
     "output_type": "stream",
     "text": [
      "Square root of elements in B:\n",
      " [[4.47213595 4.58257569 4.69041576 4.79583152 4.89897949 5.        ]\n",
      " [5.09901951 5.19615242 5.29150262 5.38516481 5.47722558 5.56776436]\n",
      " [5.65685425 5.74456265 5.83095189 5.91607978 6.         6.08276253]]\n",
      "Log of elements in B:\n",
      " [[2.99573227 3.04452244 3.09104245 3.13549422 3.17805383 3.21887582]\n",
      " [3.25809654 3.29583687 3.33220451 3.36729583 3.40119738 3.4339872 ]\n",
      " [3.4657359  3.49650756 3.52636052 3.55534806 3.58351894 3.61091791]]\n"
     ]
    }
   ],
   "source": [
    "print(\"Square root of elements in B:\\n\", np.sqrt(b))\n",
    "print(\"Log of elements in B:\\n\", np.log(b))"
   ]
  },
  {
   "cell_type": "code",
   "execution_count": 23,
   "metadata": {},
   "outputs": [
    {
     "name": "stdout",
     "output_type": "stream",
     "text": [
      "Angles in radians: [0.         0.52359878 0.78539816 1.04719755 1.57079633]\n"
     ]
    }
   ],
   "source": [
    "\n",
    "angles_degrees = np.array([0, 30, 45, 60, 90])\n",
    "angles_radians = np.radians(angles_degrees) \n",
    "print(\"Angles in radians:\", angles_radians)"
   ]
  },
  {
   "cell_type": "markdown",
   "metadata": {},
   "source": [
    "Basic Trigonometric Functions"
   ]
  },
  {
   "cell_type": "code",
   "execution_count": 24,
   "metadata": {},
   "outputs": [
    {
     "name": "stdout",
     "output_type": "stream",
     "text": [
      "Angles in radians: [0.         0.52359878 0.78539816 1.04719755 1.57079633]\n",
      "Sine values: [0.         0.5        0.70710678 0.8660254  1.        ]\n",
      "Cosine values: [1.00000000e+00 8.66025404e-01 7.07106781e-01 5.00000000e-01\n",
      " 6.12323400e-17]\n",
      "Tangent values: [0.00000000e+00 5.77350269e-01 1.00000000e+00 1.73205081e+00\n",
      " 1.63312394e+16]\n"
     ]
    }
   ],
   "source": [
    "\n",
    "sin_values = np.sin(angles_radians)\n",
    "cos_values = np.cos(angles_radians)\n",
    "tan_values = np.tan(angles_radians)\n",
    "\n",
    "print(\"Angles in radians:\", angles_radians)\n",
    "print(\"Sine values:\", sin_values)\n",
    "print(\"Cosine values:\", cos_values)\n",
    "print(\"Tangent values:\", tan_values)\n"
   ]
  },
  {
   "cell_type": "markdown",
   "metadata": {},
   "source": [
    "Hyperbolic Trigonometric Functions"
   ]
  },
  {
   "cell_type": "code",
   "execution_count": 25,
   "metadata": {},
   "outputs": [
    {
     "name": "stdout",
     "output_type": "stream",
     "text": [
      "Sinh values: [0.         0.54785347 0.86867096 1.24936705 2.3012989 ]\n",
      "Cosh values: [1.         1.14023832 1.32460909 1.60028686 2.50917848]\n",
      "Tanh values: [0.         0.48047278 0.6557942  0.78071444 0.91715234]\n"
     ]
    }
   ],
   "source": [
    "\n",
    "sinh_values = np.sinh(angles_radians)\n",
    "cosh_values = np.cosh(angles_radians)\n",
    "tanh_values = np.tanh(angles_radians)\n",
    "\n",
    "print(\"Sinh values:\", sinh_values)\n",
    "print(\"Cosh values:\", cosh_values)\n",
    "print(\"Tanh values:\", tanh_values)\n"
   ]
  },
  {
   "cell_type": "markdown",
   "metadata": {},
   "source": [
    "Radian to Degree Conversion and Vice Versa"
   ]
  },
  {
   "cell_type": "code",
   "execution_count": 26,
   "metadata": {},
   "outputs": [
    {
     "name": "stdout",
     "output_type": "stream",
     "text": [
      "Angles in degrees: [ 0. 30. 45. 60. 90.]\n",
      "Angles in radians: [0.         0.52359878 0.78539816 1.04719755 1.57079633]\n"
     ]
    }
   ],
   "source": [
    "\n",
    "angles_in_degrees = np.degrees(angles_radians)\n",
    "angles_in_radians = np.radians(angles_degrees)\n",
    "\n",
    "print(\"Angles in degrees:\", angles_in_degrees)\n",
    "print(\"Angles in radians:\", angles_in_radians)\n"
   ]
  },
  {
   "cell_type": "markdown",
   "metadata": {},
   "source": [
    "Basic Random Number Generators\n",
    "\n",
    "np.random.random(): generates a random float between 0 and 1. Each time it is called, a new random value is produced.\n",
    "\n",
    "np.random.random(s): Generates an array of size s with random float elements between 0 and 1.\n",
    "\n",
    "np.random.random((mxn)): generates a mxn array  of random floats between 0 and 1.\n"
   ]
  },
  {
   "cell_type": "code",
   "execution_count": 27,
   "metadata": {},
   "outputs": [
    {
     "name": "stdout",
     "output_type": "stream",
     "text": [
      "random float:  0.6550488517933034\n",
      "random 1D array of floats of size 2\n",
      "[0.38655662 0.35629231]\n",
      "random 2D array of floats of size 2x3\n",
      "[[0.17492405 0.57085757 0.00547181]\n",
      " [0.05615925 0.5039185  0.30839232]]\n"
     ]
    }
   ],
   "source": [
    "print('random float: ',  np.random.random())\n",
    "\n",
    "print('random 1D array of floats of size 2')\n",
    "r1=np.random.random(2)  \n",
    "print(r1)\n",
    "\n",
    "print('random 2D array of floats of size 2x3')\n",
    "r2=np.random.random((2, 3))  \n",
    "print(r2)"
   ]
  },
  {
   "cell_type": "markdown",
   "metadata": {},
   "source": [
    "Random Integers\n",
    "\n",
    "np.random.randint(low, high): \n",
    "\n",
    "generates a random integer within the specified range (low, high), each time  you call the function, it return  a different integer.\n",
    "\n",
    "\n",
    "np.random.randint(low, high, size)\n",
    "Generates an array of random integers within the specified range with the given size."
   ]
  },
  {
   "cell_type": "code",
   "execution_count": 28,
   "metadata": {},
   "outputs": [
    {
     "name": "stdout",
     "output_type": "stream",
     "text": [
      "6\n"
     ]
    },
    {
     "data": {
      "text/plain": [
       "array([[[5, 5],\n",
       "        [9, 7]],\n",
       "\n",
       "       [[9, 1],\n",
       "        [3, 7]]], dtype=int32)"
      ]
     },
     "execution_count": 28,
     "metadata": {},
     "output_type": "execute_result"
    }
   ],
   "source": [
    "r=np.random.randint(1,10)\n",
    "print(r)\n",
    "\n",
    "np.random.randint(1, 10, (2, 2))  # 2x2 array of random integers between 1 and 10\n",
    "np.random.randint(1, 10, (2, 2, 2))  # 3D array\n"
   ]
  },
  {
   "cell_type": "markdown",
   "metadata": {},
   "source": [
    "np.random.choice(array)\n",
    "\n",
    "Randomly selects a single value from the specified array."
   ]
  },
  {
   "cell_type": "code",
   "execution_count": 29,
   "metadata": {},
   "outputs": [
    {
     "name": "stdout",
     "output_type": "stream",
     "text": [
      "[ 1  2  3  4  5  6  7  8  9 10]\n"
     ]
    },
    {
     "data": {
      "text/plain": [
       "np.int64(2)"
      ]
     },
     "execution_count": 29,
     "metadata": {},
     "output_type": "execute_result"
    }
   ],
   "source": [
    "array = np.arange(1, 11) \n",
    "print(array)\n",
    "np.random.choice(array)"
   ]
  },
  {
   "cell_type": "markdown",
   "metadata": {},
   "source": [
    "Concatenate Strings\n",
    "\n",
    "np.char.add allows you to concatenate two strings element-wise in NumPy.\n",
    "\n"
   ]
  },
  {
   "cell_type": "code",
   "execution_count": 30,
   "metadata": {},
   "outputs": [
    {
     "name": "stdout",
     "output_type": "stream",
     "text": [
      "Welcome toPython Course\n"
     ]
    }
   ],
   "source": [
    "s1 = \"Welcome to\"\n",
    "s2 = \"Python Course\"\n",
    "\n",
    "result = np.char.add(s1, s2)\n",
    "print(result)\n"
   ]
  },
  {
   "cell_type": "markdown",
   "metadata": {},
   "source": [
    "Convert to Uppercase\n",
    "\n",
    "np.char.upper changes all characters in a string to uppercase."
   ]
  },
  {
   "cell_type": "code",
   "execution_count": 31,
   "metadata": {},
   "outputs": [
    {
     "name": "stdout",
     "output_type": "stream",
     "text": [
      "WELCOME TO\n"
     ]
    }
   ],
   "source": [
    "\n",
    "upper_case = np.char.upper(s1)\n",
    "print(upper_case)\n"
   ]
  },
  {
   "cell_type": "markdown",
   "metadata": {},
   "source": [
    " Convert to Lowercase\n",
    " \n",
    "np.char.lower changes all characters in a string to lowercase."
   ]
  },
  {
   "cell_type": "code",
   "execution_count": 32,
   "metadata": {},
   "outputs": [
    {
     "name": "stdout",
     "output_type": "stream",
     "text": [
      "welcome to\n"
     ]
    }
   ],
   "source": [
    "\n",
    "lower_case = np.char.lower(s1)\n",
    "print(lower_case)\n"
   ]
  },
  {
   "cell_type": "markdown",
   "metadata": {},
   "source": [
    "Split the String at Spaces\n",
    "\n",
    "np.char.split splits a string into a list at each whitespace."
   ]
  },
  {
   "cell_type": "code",
   "execution_count": 33,
   "metadata": {},
   "outputs": [
    {
     "name": "stdout",
     "output_type": "stream",
     "text": [
      "['Welcome', 'to']\n"
     ]
    }
   ],
   "source": [
    "\n",
    "split_str = np.char.split(s1)\n",
    "print(split_str)\n"
   ]
  },
  {
   "cell_type": "markdown",
   "metadata": {},
   "source": [
    "Split at New Lines\n",
    "\n",
    "np.char.splitlines splits a string at each newline character."
   ]
  },
  {
   "cell_type": "code",
   "execution_count": 34,
   "metadata": {},
   "outputs": [
    {
     "name": "stdout",
     "output_type": "stream",
     "text": [
      "['Fatima is my', 'name']\n"
     ]
    }
   ],
   "source": [
    "s1_multiline = \"Fatima is my\\nname\"\n",
    "\n",
    "split_lines = np.char.splitlines(s1_multiline)\n",
    "print(split_lines)\n"
   ]
  },
  {
   "cell_type": "markdown",
   "metadata": {},
   "source": [
    "Replace Substring\n",
    "\n",
    "np.char.replace replaces one substring with another within a string."
   ]
  },
  {
   "cell_type": "code",
   "execution_count": 35,
   "metadata": {},
   "outputs": [
    {
     "name": "stdout",
     "output_type": "stream",
     "text": [
      "AI Course\n"
     ]
    }
   ],
   "source": [
    "\n",
    "replace_name = np.char.replace(s2, \"Python\", \"AI\")\n",
    "print(replace_name)\n"
   ]
  },
  {
   "cell_type": "markdown",
   "metadata": {},
   "source": [
    " Center Text with Padding Character\n",
    " \n",
    "np.char.center centers a string in a specified width and fills the space around it with a chosen character."
   ]
  },
  {
   "cell_type": "code",
   "execution_count": 39,
   "metadata": {},
   "outputs": [
    {
     "name": "stdout",
     "output_type": "stream",
     "text": [
      "****************Goodbye*****************\n"
     ]
    }
   ],
   "source": [
    "\n",
    "centered_text = np.char.center(\"Goodbye\", 40, fillchar=\"*\")\n",
    "print(centered_text)\n"
   ]
  }
 ],
 "metadata": {
  "kernelspec": {
   "display_name": "venv",
   "language": "python",
   "name": "python3"
  },
  "language_info": {
   "codemirror_mode": {
    "name": "ipython",
    "version": 3
   },
   "file_extension": ".py",
   "mimetype": "text/x-python",
   "name": "python",
   "nbconvert_exporter": "python",
   "pygments_lexer": "ipython3",
   "version": "3.12.6"
  }
 },
 "nbformat": 4,
 "nbformat_minor": 2
}
